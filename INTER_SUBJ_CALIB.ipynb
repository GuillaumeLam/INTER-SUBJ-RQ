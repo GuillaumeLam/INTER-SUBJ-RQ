{
 "cells": [
  {
   "cell_type": "code",
   "execution_count": null,
   "id": "88e1a888",
   "metadata": {},
   "outputs": [],
   "source": [
    "from calibration import calib_data, graph_f1_calib\n",
    "import copy\n",
    "import pickle\n",
    "import matplotlib.pyplot as plt\n",
    "\n",
    "cv = 14"
   ]
  },
  {
   "cell_type": "code",
   "execution_count": null,
   "id": "810a556d",
   "metadata": {
    "scrolled": true
   },
   "outputs": [],
   "source": [
    "label_f1, sw_f1, rw_f1, calib_sizes = calib_data(cv)"
   ]
  },
  {
   "cell_type": "code",
   "execution_count": null,
   "id": "b4377a00",
   "metadata": {},
   "outputs": [],
   "source": [
    "# SAVE resulting run data\n",
    "run_data = (label_f1, sw_f1, rw_f1, calib_sizes)\n",
    "pickle.dump(run_data, open('calib_run_data(ffn,cv='+str(cv)+').pkl','wb'))"
   ]
  },
  {
   "cell_type": "code",
   "execution_count": null,
   "id": "978ae3ca",
   "metadata": {},
   "outputs": [],
   "source": [
    "# LOAD run data\n",
    "label_f1, sw_f1, rw_f1, calib_sizes = pickle.load(open('calib_run_data(ffn,cv='+str(cv)+').pkl','rb'))"
   ]
  },
  {
   "cell_type": "code",
   "execution_count": null,
   "id": "161a5993",
   "metadata": {},
   "outputs": [],
   "source": [
    "graph_f1_calib(copy.deepcopy(label_f1), copy.deepcopy(sw_f1), copy.deepcopy(rw_f1), calib_sizes, detail=False, model_id='ffn')"
   ]
  },
  {
   "cell_type": "code",
   "execution_count": null,
   "id": "ffa2d958",
   "metadata": {},
   "outputs": [],
   "source": [
    "graph_f1_calib(copy.deepcopy(label_f1), copy.deepcopy(sw_f1), copy.deepcopy(rw_f1), calib_sizes, detail=False, model_id='ffn', log_scale=True)"
   ]
  },
  {
   "cell_type": "code",
   "execution_count": null,
   "id": "5ff00c9e",
   "metadata": {},
   "outputs": [],
   "source": [
    "plt.rcParams['figure.figsize'] = [10, 10]"
   ]
  },
  {
   "cell_type": "code",
   "execution_count": null,
   "id": "6ff4939a",
   "metadata": {},
   "outputs": [],
   "source": [
    "graph_f1_calib(copy.deepcopy(label_f1), copy.deepcopy(sw_f1), copy.deepcopy(rw_f1), calib_sizes, detail=True, model_id='ffn')"
   ]
  },
  {
   "cell_type": "code",
   "execution_count": null,
   "id": "21d2e742",
   "metadata": {},
   "outputs": [],
   "source": [
    "graph_f1_calib(copy.deepcopy(label_f1), copy.deepcopy(sw_f1), copy.deepcopy(rw_f1), calib_sizes, detail=True, model_id='ffn', log_scale=True)"
   ]
  },
  {
   "cell_type": "code",
   "execution_count": null,
   "id": "2d4aa63b",
   "metadata": {},
   "outputs": [],
   "source": []
  }
 ],
 "metadata": {
  "kernelspec": {
   "display_name": "Python 3 (ipykernel)",
   "language": "python",
   "name": "python3"
  },
  "language_info": {
   "codemirror_mode": {
    "name": "ipython",
    "version": 3
   },
   "file_extension": ".py",
   "mimetype": "text/x-python",
   "name": "python",
   "nbconvert_exporter": "python",
   "pygments_lexer": "ipython3",
   "version": "3.7.1"
  }
 },
 "nbformat": 4,
 "nbformat_minor": 5
}
